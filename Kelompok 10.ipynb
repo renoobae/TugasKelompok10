{
 "cells": [
  {
   "cell_type": "code",
   "execution_count": 85,
   "metadata": {},
   "outputs": [],
   "source": [
    "import pandas as pd "
   ]
  },
  {
   "cell_type": "code",
   "execution_count": 86,
   "metadata": {},
   "outputs": [],
   "source": [
    "df= pd.read_csv('C:/01_Kuliah/01K_Lainnya/CSV/buddymove_holidayiq.CSV')"
   ]
  },
  {
   "cell_type": "code",
   "execution_count": 87,
   "metadata": {},
   "outputs": [
    {
     "data": {
      "text/html": [
       "<div>\n",
       "<style scoped>\n",
       "    .dataframe tbody tr th:only-of-type {\n",
       "        vertical-align: middle;\n",
       "    }\n",
       "\n",
       "    .dataframe tbody tr th {\n",
       "        vertical-align: top;\n",
       "    }\n",
       "\n",
       "    .dataframe thead th {\n",
       "        text-align: right;\n",
       "    }\n",
       "</style>\n",
       "<table border=\"1\" class=\"dataframe\">\n",
       "  <thead>\n",
       "    <tr style=\"text-align: right;\">\n",
       "      <th></th>\n",
       "      <th>User Id</th>\n",
       "      <th>Sports</th>\n",
       "      <th>Religious</th>\n",
       "      <th>Nature</th>\n",
       "      <th>Theatre</th>\n",
       "      <th>Shopping</th>\n",
       "      <th>Picnic</th>\n",
       "    </tr>\n",
       "  </thead>\n",
       "  <tbody>\n",
       "    <tr>\n",
       "      <th>0</th>\n",
       "      <td>User 1</td>\n",
       "      <td>2</td>\n",
       "      <td>77</td>\n",
       "      <td>79</td>\n",
       "      <td>69</td>\n",
       "      <td>68</td>\n",
       "      <td>95</td>\n",
       "    </tr>\n",
       "    <tr>\n",
       "      <th>1</th>\n",
       "      <td>User 2</td>\n",
       "      <td>2</td>\n",
       "      <td>62</td>\n",
       "      <td>76</td>\n",
       "      <td>76</td>\n",
       "      <td>69</td>\n",
       "      <td>68</td>\n",
       "    </tr>\n",
       "    <tr>\n",
       "      <th>2</th>\n",
       "      <td>User 3</td>\n",
       "      <td>2</td>\n",
       "      <td>50</td>\n",
       "      <td>97</td>\n",
       "      <td>87</td>\n",
       "      <td>50</td>\n",
       "      <td>75</td>\n",
       "    </tr>\n",
       "    <tr>\n",
       "      <th>3</th>\n",
       "      <td>User 4</td>\n",
       "      <td>2</td>\n",
       "      <td>68</td>\n",
       "      <td>77</td>\n",
       "      <td>95</td>\n",
       "      <td>76</td>\n",
       "      <td>61</td>\n",
       "    </tr>\n",
       "    <tr>\n",
       "      <th>4</th>\n",
       "      <td>User 5</td>\n",
       "      <td>2</td>\n",
       "      <td>98</td>\n",
       "      <td>54</td>\n",
       "      <td>59</td>\n",
       "      <td>95</td>\n",
       "      <td>86</td>\n",
       "    </tr>\n",
       "  </tbody>\n",
       "</table>\n",
       "</div>"
      ],
      "text/plain": [
       "  User Id  Sports  Religious  Nature  Theatre  Shopping  Picnic\n",
       "0  User 1       2         77      79       69        68      95\n",
       "1  User 2       2         62      76       76        69      68\n",
       "2  User 3       2         50      97       87        50      75\n",
       "3  User 4       2         68      77       95        76      61\n",
       "4  User 5       2         98      54       59        95      86"
      ]
     },
     "metadata": {},
     "output_type": "display_data"
    },
    {
     "data": {
      "text/html": [
       "<div>\n",
       "<style scoped>\n",
       "    .dataframe tbody tr th:only-of-type {\n",
       "        vertical-align: middle;\n",
       "    }\n",
       "\n",
       "    .dataframe tbody tr th {\n",
       "        vertical-align: top;\n",
       "    }\n",
       "\n",
       "    .dataframe thead th {\n",
       "        text-align: right;\n",
       "    }\n",
       "</style>\n",
       "<table border=\"1\" class=\"dataframe\">\n",
       "  <thead>\n",
       "    <tr style=\"text-align: right;\">\n",
       "      <th></th>\n",
       "      <th>User Id</th>\n",
       "      <th>Sports</th>\n",
       "      <th>Religious</th>\n",
       "      <th>Nature</th>\n",
       "      <th>Theatre</th>\n",
       "      <th>Shopping</th>\n",
       "      <th>Picnic</th>\n",
       "    </tr>\n",
       "  </thead>\n",
       "  <tbody>\n",
       "    <tr>\n",
       "      <th>244</th>\n",
       "      <td>User 245</td>\n",
       "      <td>18</td>\n",
       "      <td>139</td>\n",
       "      <td>148</td>\n",
       "      <td>129</td>\n",
       "      <td>129</td>\n",
       "      <td>168</td>\n",
       "    </tr>\n",
       "    <tr>\n",
       "      <th>245</th>\n",
       "      <td>User 246</td>\n",
       "      <td>22</td>\n",
       "      <td>114</td>\n",
       "      <td>228</td>\n",
       "      <td>104</td>\n",
       "      <td>84</td>\n",
       "      <td>168</td>\n",
       "    </tr>\n",
       "    <tr>\n",
       "      <th>246</th>\n",
       "      <td>User 247</td>\n",
       "      <td>20</td>\n",
       "      <td>124</td>\n",
       "      <td>178</td>\n",
       "      <td>104</td>\n",
       "      <td>158</td>\n",
       "      <td>174</td>\n",
       "    </tr>\n",
       "    <tr>\n",
       "      <th>247</th>\n",
       "      <td>User 248</td>\n",
       "      <td>20</td>\n",
       "      <td>133</td>\n",
       "      <td>149</td>\n",
       "      <td>139</td>\n",
       "      <td>144</td>\n",
       "      <td>213</td>\n",
       "    </tr>\n",
       "    <tr>\n",
       "      <th>248</th>\n",
       "      <td>User 249</td>\n",
       "      <td>20</td>\n",
       "      <td>143</td>\n",
       "      <td>149</td>\n",
       "      <td>139</td>\n",
       "      <td>159</td>\n",
       "      <td>143</td>\n",
       "    </tr>\n",
       "  </tbody>\n",
       "</table>\n",
       "</div>"
      ],
      "text/plain": [
       "      User Id  Sports  Religious  Nature  Theatre  Shopping  Picnic\n",
       "244  User 245      18        139     148      129       129     168\n",
       "245  User 246      22        114     228      104        84     168\n",
       "246  User 247      20        124     178      104       158     174\n",
       "247  User 248      20        133     149      139       144     213\n",
       "248  User 249      20        143     149      139       159     143"
      ]
     },
     "metadata": {},
     "output_type": "display_data"
    }
   ],
   "source": [
    "display(df.head())\n",
    "display(df.tail())"
   ]
  },
  {
   "cell_type": "code",
   "execution_count": 88,
   "metadata": {},
   "outputs": [
    {
     "name": "stdout",
     "output_type": "stream",
     "text": [
      "<class 'pandas.core.frame.DataFrame'>\n",
      "RangeIndex: 249 entries, 0 to 248\n",
      "Data columns (total 7 columns):\n",
      " #   Column     Non-Null Count  Dtype \n",
      "---  ------     --------------  ----- \n",
      " 0   User Id    249 non-null    object\n",
      " 1   Sports     249 non-null    int64 \n",
      " 2   Religious  249 non-null    int64 \n",
      " 3   Nature     249 non-null    int64 \n",
      " 4   Theatre    249 non-null    int64 \n",
      " 5   Shopping   249 non-null    int64 \n",
      " 6   Picnic     249 non-null    int64 \n",
      "dtypes: int64(6), object(1)\n",
      "memory usage: 13.7+ KB\n"
     ]
    },
    {
     "data": {
      "text/plain": [
       "None"
      ]
     },
     "metadata": {},
     "output_type": "display_data"
    }
   ],
   "source": [
    "display(df.info())"
   ]
  },
  {
   "cell_type": "code",
   "execution_count": 89,
   "metadata": {},
   "outputs": [
    {
     "name": "stdout",
     "output_type": "stream",
     "text": [
      "Nilai yang hilang\n"
     ]
    },
    {
     "data": {
      "text/plain": [
       "User Id      0\n",
       "Sports       0\n",
       "Religious    0\n",
       "Nature       0\n",
       "Theatre      0\n",
       "Shopping     0\n",
       "Picnic       0\n",
       "dtype: int64"
      ]
     },
     "metadata": {},
     "output_type": "display_data"
    }
   ],
   "source": [
    "print('Nilai yang hilang')\n",
    "display(df.isnull().sum())"
   ]
  },
  {
   "cell_type": "code",
   "execution_count": 90,
   "metadata": {},
   "outputs": [
    {
     "name": "stdout",
     "output_type": "stream",
     "text": [
      "Sports       0\n",
      "Religious    0\n",
      "Nature       1\n",
      "Theatre      3\n",
      "Shopping     2\n",
      "Picnic       0\n",
      "dtype: int64\n"
     ]
    }
   ],
   "source": [
    "# Mengecek outliers dengan menggunakan IQR\n",
    "numerical_df = df.select_dtypes(include=['int64'])\n",
    "\n",
    "# Menghitung kuartil pertama (Q1) dan kuartil ketiga (Q3)\n",
    "Q1 = numerical_df.quantile(0.25)\n",
    "Q3 = numerical_df.quantile(0.75)\n",
    "\n",
    "IQR = Q3 - Q1\n",
    "\n",
    "lower_bound = Q1 - 1.5 * IQR\n",
    "upper_bound = Q3 + 1.5 * IQR\n",
    "\n",
    "# Mengecek outliers dengan numerical_data\n",
    "outliers = ((numerical_df < lower_bound) | (numerical_df > upper_bound)).sum()\n",
    "\n",
    "print(outliers)\n"
   ]
  },
  {
   "cell_type": "code",
   "execution_count": 91,
   "metadata": {},
   "outputs": [
    {
     "name": "stdout",
     "output_type": "stream",
     "text": [
      "Data setelah penghapusan outliers:\n"
     ]
    },
    {
     "data": {
      "text/html": [
       "<div>\n",
       "<style scoped>\n",
       "    .dataframe tbody tr th:only-of-type {\n",
       "        vertical-align: middle;\n",
       "    }\n",
       "\n",
       "    .dataframe tbody tr th {\n",
       "        vertical-align: top;\n",
       "    }\n",
       "\n",
       "    .dataframe thead th {\n",
       "        text-align: right;\n",
       "    }\n",
       "</style>\n",
       "<table border=\"1\" class=\"dataframe\">\n",
       "  <thead>\n",
       "    <tr style=\"text-align: right;\">\n",
       "      <th></th>\n",
       "      <th>User Id</th>\n",
       "      <th>Sports</th>\n",
       "      <th>Religious</th>\n",
       "      <th>Nature</th>\n",
       "      <th>Theatre</th>\n",
       "      <th>Shopping</th>\n",
       "      <th>Picnic</th>\n",
       "    </tr>\n",
       "  </thead>\n",
       "  <tbody>\n",
       "    <tr>\n",
       "      <th>0</th>\n",
       "      <td>User 1</td>\n",
       "      <td>2</td>\n",
       "      <td>77</td>\n",
       "      <td>79</td>\n",
       "      <td>69</td>\n",
       "      <td>68</td>\n",
       "      <td>95</td>\n",
       "    </tr>\n",
       "    <tr>\n",
       "      <th>1</th>\n",
       "      <td>User 2</td>\n",
       "      <td>2</td>\n",
       "      <td>62</td>\n",
       "      <td>76</td>\n",
       "      <td>76</td>\n",
       "      <td>69</td>\n",
       "      <td>68</td>\n",
       "    </tr>\n",
       "    <tr>\n",
       "      <th>2</th>\n",
       "      <td>User 3</td>\n",
       "      <td>2</td>\n",
       "      <td>50</td>\n",
       "      <td>97</td>\n",
       "      <td>87</td>\n",
       "      <td>50</td>\n",
       "      <td>75</td>\n",
       "    </tr>\n",
       "    <tr>\n",
       "      <th>3</th>\n",
       "      <td>User 4</td>\n",
       "      <td>2</td>\n",
       "      <td>68</td>\n",
       "      <td>77</td>\n",
       "      <td>95</td>\n",
       "      <td>76</td>\n",
       "      <td>61</td>\n",
       "    </tr>\n",
       "    <tr>\n",
       "      <th>4</th>\n",
       "      <td>User 5</td>\n",
       "      <td>2</td>\n",
       "      <td>98</td>\n",
       "      <td>54</td>\n",
       "      <td>59</td>\n",
       "      <td>95</td>\n",
       "      <td>86</td>\n",
       "    </tr>\n",
       "    <tr>\n",
       "      <th>...</th>\n",
       "      <td>...</td>\n",
       "      <td>...</td>\n",
       "      <td>...</td>\n",
       "      <td>...</td>\n",
       "      <td>...</td>\n",
       "      <td>...</td>\n",
       "      <td>...</td>\n",
       "    </tr>\n",
       "    <tr>\n",
       "      <th>244</th>\n",
       "      <td>User 245</td>\n",
       "      <td>18</td>\n",
       "      <td>139</td>\n",
       "      <td>148</td>\n",
       "      <td>129</td>\n",
       "      <td>129</td>\n",
       "      <td>168</td>\n",
       "    </tr>\n",
       "    <tr>\n",
       "      <th>245</th>\n",
       "      <td>User 246</td>\n",
       "      <td>22</td>\n",
       "      <td>114</td>\n",
       "      <td>228</td>\n",
       "      <td>104</td>\n",
       "      <td>84</td>\n",
       "      <td>168</td>\n",
       "    </tr>\n",
       "    <tr>\n",
       "      <th>246</th>\n",
       "      <td>User 247</td>\n",
       "      <td>20</td>\n",
       "      <td>124</td>\n",
       "      <td>178</td>\n",
       "      <td>104</td>\n",
       "      <td>158</td>\n",
       "      <td>174</td>\n",
       "    </tr>\n",
       "    <tr>\n",
       "      <th>247</th>\n",
       "      <td>User 248</td>\n",
       "      <td>20</td>\n",
       "      <td>133</td>\n",
       "      <td>149</td>\n",
       "      <td>139</td>\n",
       "      <td>144</td>\n",
       "      <td>213</td>\n",
       "    </tr>\n",
       "    <tr>\n",
       "      <th>248</th>\n",
       "      <td>User 249</td>\n",
       "      <td>20</td>\n",
       "      <td>143</td>\n",
       "      <td>149</td>\n",
       "      <td>139</td>\n",
       "      <td>159</td>\n",
       "      <td>143</td>\n",
       "    </tr>\n",
       "  </tbody>\n",
       "</table>\n",
       "<p>243 rows × 7 columns</p>\n",
       "</div>"
      ],
      "text/plain": [
       "      User Id  Sports  Religious  Nature  Theatre  Shopping  Picnic\n",
       "0      User 1       2         77      79       69        68      95\n",
       "1      User 2       2         62      76       76        69      68\n",
       "2      User 3       2         50      97       87        50      75\n",
       "3      User 4       2         68      77       95        76      61\n",
       "4      User 5       2         98      54       59        95      86\n",
       "..        ...     ...        ...     ...      ...       ...     ...\n",
       "244  User 245      18        139     148      129       129     168\n",
       "245  User 246      22        114     228      104        84     168\n",
       "246  User 247      20        124     178      104       158     174\n",
       "247  User 248      20        133     149      139       144     213\n",
       "248  User 249      20        143     149      139       159     143\n",
       "\n",
       "[243 rows x 7 columns]"
      ]
     },
     "execution_count": 91,
     "metadata": {},
     "output_type": "execute_result"
    }
   ],
   "source": [
    "\n",
    "# Menghapus outliers dari kolom Nature, Theatre, dan Shopping\n",
    "numerical_df = df[\n",
    "    (df['Nature'] >= lower_bound['Nature']) & (df['Nature'] <= upper_bound['Nature']) &\n",
    "    (df['Theatre'] >= lower_bound['Theatre']) & (df['Theatre'] <= upper_bound['Theatre']) &\n",
    "    (df['Shopping'] >= lower_bound['Shopping']) & (df['Shopping'] <= upper_bound['Shopping'])]\n",
    "\n",
    "# Menampilkan data setelah penghapusan outliers\n",
    "print(\"Data setelah penghapusan outliers:\")\n",
    "numerical_df"
   ]
  },
  {
   "cell_type": "code",
   "execution_count": 92,
   "metadata": {},
   "outputs": [
    {
     "name": "stdout",
     "output_type": "stream",
     "text": [
      "Median\n"
     ]
    },
    {
     "data": {
      "text/plain": [
       "Sports        12.0\n",
       "Religious    104.0\n",
       "Nature       119.0\n",
       "Theatre      113.0\n",
       "Shopping     104.0\n",
       "Picnic       119.0\n",
       "dtype: float64"
      ]
     },
     "metadata": {},
     "output_type": "display_data"
    },
    {
     "name": "stdout",
     "output_type": "stream",
     "text": [
      "Mode\n"
     ]
    },
    {
     "data": {
      "text/plain": [
       "User Id      User 1\n",
       "Sports         12.0\n",
       "Religious      84.0\n",
       "Nature         94.0\n",
       "Theatre       104.0\n",
       "Shopping       79.0\n",
       "Picnic        143.0\n",
       "Name: 0, dtype: object"
      ]
     },
     "metadata": {},
     "output_type": "display_data"
    },
    {
     "name": "stdout",
     "output_type": "stream",
     "text": [
      "Standar Deviasi\n"
     ]
    },
    {
     "data": {
      "text/plain": [
       "Sports        6.616501\n",
       "Religious    32.454115\n",
       "Nature       45.639372\n",
       "Theatre      32.132696\n",
       "Shopping     41.562888\n",
       "Picnic       32.633339\n",
       "dtype: float64"
      ]
     },
     "metadata": {},
     "output_type": "display_data"
    },
    {
     "name": "stdout",
     "output_type": "stream",
     "text": [
      "Skewness\n"
     ]
    },
    {
     "data": {
      "text/plain": [
       "Sports       0.276508\n",
       "Religious    0.607930\n",
       "Nature       0.715522\n",
       "Theatre      0.579853\n",
       "Shopping     0.791765\n",
       "Picnic       0.424635\n",
       "dtype: float64"
      ]
     },
     "metadata": {},
     "output_type": "display_data"
    },
    {
     "name": "stdout",
     "output_type": "stream",
     "text": [
      "Kurtosis\n"
     ]
    },
    {
     "data": {
      "text/plain": [
       "Sports      -1.210310\n",
       "Religious   -0.131847\n",
       "Nature       0.536374\n",
       "Theatre     -0.178279\n",
       "Shopping     0.010869\n",
       "Picnic      -0.457196\n",
       "dtype: float64"
      ]
     },
     "metadata": {},
     "output_type": "display_data"
    }
   ],
   "source": [
    "print ('Median')\n",
    "display(df.median(numeric_only=True))\n",
    "\n",
    "print ('Mode')\n",
    "display(df.mode().iloc[0])\n",
    "\n",
    "print('Standar Deviasi')\n",
    "display(df.std(numeric_only=True))\n",
    "\n",
    "print ('Skewness')\n",
    "display(df.skew(numeric_only=True))\n",
    "\n",
    "print('Kurtosis')\n",
    "display(df.kurt(numeric_only=True))\n"
   ]
  },
  {
   "cell_type": "code",
   "execution_count": 93,
   "metadata": {},
   "outputs": [
    {
     "data": {
      "text/html": [
       "<div>\n",
       "<style scoped>\n",
       "    .dataframe tbody tr th:only-of-type {\n",
       "        vertical-align: middle;\n",
       "    }\n",
       "\n",
       "    .dataframe tbody tr th {\n",
       "        vertical-align: top;\n",
       "    }\n",
       "\n",
       "    .dataframe thead th {\n",
       "        text-align: right;\n",
       "    }\n",
       "</style>\n",
       "<table border=\"1\" class=\"dataframe\">\n",
       "  <thead>\n",
       "    <tr style=\"text-align: right;\">\n",
       "      <th></th>\n",
       "      <th>Sports</th>\n",
       "      <th>Religious</th>\n",
       "      <th>Nature</th>\n",
       "      <th>Theatre</th>\n",
       "      <th>Shopping</th>\n",
       "      <th>Picnic</th>\n",
       "    </tr>\n",
       "  </thead>\n",
       "  <tbody>\n",
       "    <tr>\n",
       "      <th>Sports</th>\n",
       "      <td>1.000000</td>\n",
       "      <td>0.623400</td>\n",
       "      <td>0.608372</td>\n",
       "      <td>0.611728</td>\n",
       "      <td>0.583956</td>\n",
       "      <td>0.797777</td>\n",
       "    </tr>\n",
       "    <tr>\n",
       "      <th>Religious</th>\n",
       "      <td>0.623400</td>\n",
       "      <td>1.000000</td>\n",
       "      <td>-0.148365</td>\n",
       "      <td>0.169960</td>\n",
       "      <td>0.895652</td>\n",
       "      <td>0.603240</td>\n",
       "    </tr>\n",
       "    <tr>\n",
       "      <th>Nature</th>\n",
       "      <td>0.608372</td>\n",
       "      <td>-0.148365</td>\n",
       "      <td>1.000000</td>\n",
       "      <td>0.426901</td>\n",
       "      <td>-0.186125</td>\n",
       "      <td>0.522005</td>\n",
       "    </tr>\n",
       "    <tr>\n",
       "      <th>Theatre</th>\n",
       "      <td>0.611728</td>\n",
       "      <td>0.169960</td>\n",
       "      <td>0.426901</td>\n",
       "      <td>1.000000</td>\n",
       "      <td>0.182606</td>\n",
       "      <td>0.225921</td>\n",
       "    </tr>\n",
       "    <tr>\n",
       "      <th>Shopping</th>\n",
       "      <td>0.583956</td>\n",
       "      <td>0.895652</td>\n",
       "      <td>-0.186125</td>\n",
       "      <td>0.182606</td>\n",
       "      <td>1.000000</td>\n",
       "      <td>0.442214</td>\n",
       "    </tr>\n",
       "    <tr>\n",
       "      <th>Picnic</th>\n",
       "      <td>0.797777</td>\n",
       "      <td>0.603240</td>\n",
       "      <td>0.522005</td>\n",
       "      <td>0.225921</td>\n",
       "      <td>0.442214</td>\n",
       "      <td>1.000000</td>\n",
       "    </tr>\n",
       "  </tbody>\n",
       "</table>\n",
       "</div>"
      ],
      "text/plain": [
       "             Sports  Religious    Nature   Theatre  Shopping    Picnic\n",
       "Sports     1.000000   0.623400  0.608372  0.611728  0.583956  0.797777\n",
       "Religious  0.623400   1.000000 -0.148365  0.169960  0.895652  0.603240\n",
       "Nature     0.608372  -0.148365  1.000000  0.426901 -0.186125  0.522005\n",
       "Theatre    0.611728   0.169960  0.426901  1.000000  0.182606  0.225921\n",
       "Shopping   0.583956   0.895652 -0.186125  0.182606  1.000000  0.442214\n",
       "Picnic     0.797777   0.603240  0.522005  0.225921  0.442214  1.000000"
      ]
     },
     "execution_count": 93,
     "metadata": {},
     "output_type": "execute_result"
    }
   ],
   "source": [
    "numerik = df.corr(numeric_only=True)\n",
    "numerik"
   ]
  },
  {
   "cell_type": "code",
   "execution_count": 94,
   "metadata": {},
   "outputs": [
    {
     "data": {
      "text/html": [
       "<div>\n",
       "<style scoped>\n",
       "    .dataframe tbody tr th:only-of-type {\n",
       "        vertical-align: middle;\n",
       "    }\n",
       "\n",
       "    .dataframe tbody tr th {\n",
       "        vertical-align: top;\n",
       "    }\n",
       "\n",
       "    .dataframe thead th {\n",
       "        text-align: right;\n",
       "    }\n",
       "</style>\n",
       "<table border=\"1\" class=\"dataframe\">\n",
       "  <thead>\n",
       "    <tr style=\"text-align: right;\">\n",
       "      <th></th>\n",
       "      <th>User Id</th>\n",
       "      <th>Sports</th>\n",
       "      <th>Religious</th>\n",
       "      <th>Nature</th>\n",
       "      <th>Theatre</th>\n",
       "      <th>Shopping</th>\n",
       "      <th>Picnic</th>\n",
       "    </tr>\n",
       "  </thead>\n",
       "  <tbody>\n",
       "    <tr>\n",
       "      <th>0</th>\n",
       "      <td>User 1</td>\n",
       "      <td>0.0</td>\n",
       "      <td>0.176471</td>\n",
       "      <td>0.101504</td>\n",
       "      <td>0.064935</td>\n",
       "      <td>0.098361</td>\n",
       "      <td>0.216561</td>\n",
       "    </tr>\n",
       "    <tr>\n",
       "      <th>1</th>\n",
       "      <td>User 2</td>\n",
       "      <td>0.0</td>\n",
       "      <td>0.078431</td>\n",
       "      <td>0.090226</td>\n",
       "      <td>0.110390</td>\n",
       "      <td>0.103825</td>\n",
       "      <td>0.044586</td>\n",
       "    </tr>\n",
       "    <tr>\n",
       "      <th>2</th>\n",
       "      <td>User 3</td>\n",
       "      <td>0.0</td>\n",
       "      <td>0.000000</td>\n",
       "      <td>0.169173</td>\n",
       "      <td>0.181818</td>\n",
       "      <td>0.000000</td>\n",
       "      <td>0.089172</td>\n",
       "    </tr>\n",
       "    <tr>\n",
       "      <th>3</th>\n",
       "      <td>User 4</td>\n",
       "      <td>0.0</td>\n",
       "      <td>0.117647</td>\n",
       "      <td>0.093985</td>\n",
       "      <td>0.233766</td>\n",
       "      <td>0.142077</td>\n",
       "      <td>0.000000</td>\n",
       "    </tr>\n",
       "    <tr>\n",
       "      <th>4</th>\n",
       "      <td>User 5</td>\n",
       "      <td>0.0</td>\n",
       "      <td>0.313725</td>\n",
       "      <td>0.007519</td>\n",
       "      <td>0.000000</td>\n",
       "      <td>0.245902</td>\n",
       "      <td>0.159236</td>\n",
       "    </tr>\n",
       "  </tbody>\n",
       "</table>\n",
       "</div>"
      ],
      "text/plain": [
       "  User Id  Sports  Religious    Nature   Theatre  Shopping    Picnic\n",
       "0  User 1     0.0   0.176471  0.101504  0.064935  0.098361  0.216561\n",
       "1  User 2     0.0   0.078431  0.090226  0.110390  0.103825  0.044586\n",
       "2  User 3     0.0   0.000000  0.169173  0.181818  0.000000  0.089172\n",
       "3  User 4     0.0   0.117647  0.093985  0.233766  0.142077  0.000000\n",
       "4  User 5     0.0   0.313725  0.007519  0.000000  0.245902  0.159236"
      ]
     },
     "execution_count": 94,
     "metadata": {},
     "output_type": "execute_result"
    }
   ],
   "source": [
    "from sklearn.preprocessing import MinMaxScaler\n",
    "numerical_columns = ['Sports', 'Religious', 'Nature', 'Theatre', 'Shopping', 'Picnic']\n",
    "\n",
    "scaler = MinMaxScaler()\n",
    "df[numerical_columns] = scaler.fit_transform(df[numerical_columns])\n",
    "\n",
    "merged_df_head =df.head()\n",
    "merged_df_head\n"
   ]
  },
  {
   "cell_type": "code",
   "execution_count": 95,
   "metadata": {},
   "outputs": [
    {
     "data": {
      "text/html": [
       "<div>\n",
       "<style scoped>\n",
       "    .dataframe tbody tr th:only-of-type {\n",
       "        vertical-align: middle;\n",
       "    }\n",
       "\n",
       "    .dataframe tbody tr th {\n",
       "        vertical-align: top;\n",
       "    }\n",
       "\n",
       "    .dataframe thead th {\n",
       "        text-align: right;\n",
       "    }\n",
       "</style>\n",
       "<table border=\"1\" class=\"dataframe\">\n",
       "  <thead>\n",
       "    <tr style=\"text-align: right;\">\n",
       "      <th></th>\n",
       "      <th>User Id</th>\n",
       "      <th>Sports</th>\n",
       "      <th>Religious</th>\n",
       "      <th>Nature</th>\n",
       "      <th>Theatre</th>\n",
       "      <th>Shopping</th>\n",
       "      <th>Picnic</th>\n",
       "      <th>Total Engagement</th>\n",
       "      <th>Average Engagement</th>\n",
       "    </tr>\n",
       "  </thead>\n",
       "  <tbody>\n",
       "    <tr>\n",
       "      <th>0</th>\n",
       "      <td>User 1</td>\n",
       "      <td>0.0</td>\n",
       "      <td>0.176471</td>\n",
       "      <td>0.101504</td>\n",
       "      <td>0.064935</td>\n",
       "      <td>0.098361</td>\n",
       "      <td>0.216561</td>\n",
       "      <td>0.657831</td>\n",
       "      <td>0.109638</td>\n",
       "    </tr>\n",
       "    <tr>\n",
       "      <th>1</th>\n",
       "      <td>User 2</td>\n",
       "      <td>0.0</td>\n",
       "      <td>0.078431</td>\n",
       "      <td>0.090226</td>\n",
       "      <td>0.110390</td>\n",
       "      <td>0.103825</td>\n",
       "      <td>0.044586</td>\n",
       "      <td>0.427458</td>\n",
       "      <td>0.071243</td>\n",
       "    </tr>\n",
       "    <tr>\n",
       "      <th>2</th>\n",
       "      <td>User 3</td>\n",
       "      <td>0.0</td>\n",
       "      <td>0.000000</td>\n",
       "      <td>0.169173</td>\n",
       "      <td>0.181818</td>\n",
       "      <td>0.000000</td>\n",
       "      <td>0.089172</td>\n",
       "      <td>0.440163</td>\n",
       "      <td>0.073361</td>\n",
       "    </tr>\n",
       "    <tr>\n",
       "      <th>3</th>\n",
       "      <td>User 4</td>\n",
       "      <td>0.0</td>\n",
       "      <td>0.117647</td>\n",
       "      <td>0.093985</td>\n",
       "      <td>0.233766</td>\n",
       "      <td>0.142077</td>\n",
       "      <td>0.000000</td>\n",
       "      <td>0.587475</td>\n",
       "      <td>0.097912</td>\n",
       "    </tr>\n",
       "    <tr>\n",
       "      <th>4</th>\n",
       "      <td>User 5</td>\n",
       "      <td>0.0</td>\n",
       "      <td>0.313725</td>\n",
       "      <td>0.007519</td>\n",
       "      <td>0.000000</td>\n",
       "      <td>0.245902</td>\n",
       "      <td>0.159236</td>\n",
       "      <td>0.726382</td>\n",
       "      <td>0.121064</td>\n",
       "    </tr>\n",
       "  </tbody>\n",
       "</table>\n",
       "</div>"
      ],
      "text/plain": [
       "  User Id  Sports  Religious    Nature   Theatre  Shopping    Picnic  \\\n",
       "0  User 1     0.0   0.176471  0.101504  0.064935  0.098361  0.216561   \n",
       "1  User 2     0.0   0.078431  0.090226  0.110390  0.103825  0.044586   \n",
       "2  User 3     0.0   0.000000  0.169173  0.181818  0.000000  0.089172   \n",
       "3  User 4     0.0   0.117647  0.093985  0.233766  0.142077  0.000000   \n",
       "4  User 5     0.0   0.313725  0.007519  0.000000  0.245902  0.159236   \n",
       "\n",
       "   Total Engagement  Average Engagement  \n",
       "0          0.657831            0.109638  \n",
       "1          0.427458            0.071243  \n",
       "2          0.440163            0.073361  \n",
       "3          0.587475            0.097912  \n",
       "4          0.726382            0.121064  "
      ]
     },
     "execution_count": 95,
     "metadata": {},
     "output_type": "execute_result"
    }
   ],
   "source": [
    "from sklearn.preprocessing import MinMaxScaler\n",
    "\n",
    "columns_to_normalize = ['Sports', 'Religious', 'Nature', 'Theatre', 'Shopping', 'Picnic']\n",
    "\n",
    "scaler = MinMaxScaler()\n",
    "\n",
    "df_normalized = df.copy()\n",
    "df_normalized[columns_to_normalize] = scaler.fit_transform(df[columns_to_normalize])\n",
    "\n",
    "df_normalized['Total Engagement'] = df[columns_to_normalize].sum(axis=1)\n",
    "df_normalized['Average Engagement'] = df[columns_to_normalize].mean(axis=1)\n",
    "\n",
    "df_normalized.head()\n"
   ]
  },
  {
   "cell_type": "code",
   "execution_count": 96,
   "metadata": {},
   "outputs": [
    {
     "data": {
      "text/html": [
       "<div>\n",
       "<style scoped>\n",
       "    .dataframe tbody tr th:only-of-type {\n",
       "        vertical-align: middle;\n",
       "    }\n",
       "\n",
       "    .dataframe tbody tr th {\n",
       "        vertical-align: top;\n",
       "    }\n",
       "\n",
       "    .dataframe thead th {\n",
       "        text-align: right;\n",
       "    }\n",
       "</style>\n",
       "<table border=\"1\" class=\"dataframe\">\n",
       "  <thead>\n",
       "    <tr style=\"text-align: right;\">\n",
       "      <th></th>\n",
       "      <th>Sports</th>\n",
       "      <th>Religious</th>\n",
       "      <th>Nature</th>\n",
       "      <th>Theatre</th>\n",
       "      <th>Shopping</th>\n",
       "      <th>Picnic</th>\n",
       "    </tr>\n",
       "  </thead>\n",
       "  <tbody>\n",
       "    <tr>\n",
       "      <th>Sports</th>\n",
       "      <td>1.000000</td>\n",
       "      <td>0.623400</td>\n",
       "      <td>0.608372</td>\n",
       "      <td>0.611728</td>\n",
       "      <td>0.583956</td>\n",
       "      <td>0.797777</td>\n",
       "    </tr>\n",
       "    <tr>\n",
       "      <th>Religious</th>\n",
       "      <td>0.623400</td>\n",
       "      <td>1.000000</td>\n",
       "      <td>-0.148365</td>\n",
       "      <td>0.169960</td>\n",
       "      <td>0.895652</td>\n",
       "      <td>0.603240</td>\n",
       "    </tr>\n",
       "    <tr>\n",
       "      <th>Nature</th>\n",
       "      <td>0.608372</td>\n",
       "      <td>-0.148365</td>\n",
       "      <td>1.000000</td>\n",
       "      <td>0.426901</td>\n",
       "      <td>-0.186125</td>\n",
       "      <td>0.522005</td>\n",
       "    </tr>\n",
       "    <tr>\n",
       "      <th>Theatre</th>\n",
       "      <td>0.611728</td>\n",
       "      <td>0.169960</td>\n",
       "      <td>0.426901</td>\n",
       "      <td>1.000000</td>\n",
       "      <td>0.182606</td>\n",
       "      <td>0.225921</td>\n",
       "    </tr>\n",
       "    <tr>\n",
       "      <th>Shopping</th>\n",
       "      <td>0.583956</td>\n",
       "      <td>0.895652</td>\n",
       "      <td>-0.186125</td>\n",
       "      <td>0.182606</td>\n",
       "      <td>1.000000</td>\n",
       "      <td>0.442214</td>\n",
       "    </tr>\n",
       "    <tr>\n",
       "      <th>Picnic</th>\n",
       "      <td>0.797777</td>\n",
       "      <td>0.603240</td>\n",
       "      <td>0.522005</td>\n",
       "      <td>0.225921</td>\n",
       "      <td>0.442214</td>\n",
       "      <td>1.000000</td>\n",
       "    </tr>\n",
       "  </tbody>\n",
       "</table>\n",
       "</div>"
      ],
      "text/plain": [
       "             Sports  Religious    Nature   Theatre  Shopping    Picnic\n",
       "Sports     1.000000   0.623400  0.608372  0.611728  0.583956  0.797777\n",
       "Religious  0.623400   1.000000 -0.148365  0.169960  0.895652  0.603240\n",
       "Nature     0.608372  -0.148365  1.000000  0.426901 -0.186125  0.522005\n",
       "Theatre    0.611728   0.169960  0.426901  1.000000  0.182606  0.225921\n",
       "Shopping   0.583956   0.895652 -0.186125  0.182606  1.000000  0.442214\n",
       "Picnic     0.797777   0.603240  0.522005  0.225921  0.442214  1.000000"
      ]
     },
     "execution_count": 96,
     "metadata": {},
     "output_type": "execute_result"
    }
   ],
   "source": [
    "numerik = df.corr(numeric_only=True)\n",
    "numerik"
   ]
  },
  {
   "cell_type": "code",
   "execution_count": 97,
   "metadata": {},
   "outputs": [
    {
     "name": "stdout",
     "output_type": "stream",
     "text": [
      "Nilai yang hilang\n"
     ]
    },
    {
     "data": {
      "text/plain": [
       "User Id      0\n",
       "Sports       0\n",
       "Religious    0\n",
       "Nature       0\n",
       "Theatre      0\n",
       "Shopping     0\n",
       "Picnic       0\n",
       "dtype: int64"
      ]
     },
     "metadata": {},
     "output_type": "display_data"
    }
   ],
   "source": [
    "print('Nilai yang hilang')\n",
    "display(merged_df_head.isnull().sum())"
   ]
  },
  {
   "cell_type": "code",
   "execution_count": 98,
   "metadata": {},
   "outputs": [
    {
     "name": "stdout",
     "output_type": "stream",
     "text": [
      "        PC1       PC2       PC3       PC4       PC5\n",
      "0 -0.640936  0.104084  0.139490 -0.038273  0.011098\n",
      "1 -0.736407  0.064482  0.004540  0.067068  0.000002\n",
      "2 -0.757653 -0.100587  0.016579  0.025430  0.021975\n",
      "3 -0.690124  0.056480 -0.120916  0.051758 -0.000854\n",
      "4 -0.585233  0.326068  0.102639  0.002973 -0.026713\n",
      "[0.61371067 0.23402744 0.11004248 0.02754619 0.0094106 ]\n"
     ]
    }
   ],
   "source": [
    "from sklearn.decomposition import PCA\n",
    "\n",
    "\n",
    "pca = PCA(n_components=5) \n",
    "reduced_data = pca.fit_transform(df[numerical_columns])\n",
    "\n",
    "\n",
    "reduced_df = pd.DataFrame(reduced_data, columns=[f'PC{i}' for i in range(1, 6)])\n",
    "\n",
    "\n",
    "print(reduced_df.head())\n",
    "print(pca.explained_variance_ratio_)\n"
   ]
  },
  {
   "cell_type": "code",
   "execution_count": 99,
   "metadata": {},
   "outputs": [
    {
     "data": {
      "text/plain": [
       "99.473738"
      ]
     },
     "execution_count": 99,
     "metadata": {},
     "output_type": "execute_result"
    }
   ],
   "source": [
    "explained_variance = [0.61371067, 0.23402744, 0.11004248, 0.02754619, 0.0094106]\n",
    "\n",
    "total_variance_explained = sum(explained_variance)\n",
    "\n",
    "total_variance_explained_percentage = total_variance_explained * 100\n",
    "total_variance_explained_percentage"
   ]
  },
  {
   "cell_type": "markdown",
   "metadata": {},
   "source": [
    "# Laporan\n",
    "\n",
    "**Struktur Data**\n",
    "\n",
    " Data terdiri dari 249 baris dan 7 kolom. Semua kolom bertipe data numerik kecuali kolom User Id yang bertipe Object. Data tidak memiliki nilai yang hilang (missing value). Selanjutnya, kita akan memeriksa distribusi data dengan menampilkan statistik deskriptif dan histogram untuk setiap kolom minat (kolom selain User Id, menunjukkan tingkat minat pengguna dalam kategori tertentu seperti Olahraga, Keagamaan, Alam, dll.). Kita juga akan menghitung dan menampilkan jumlah outlier pada setiap kolom minat.\n"
   ]
  },
  {
   "cell_type": "markdown",
   "metadata": {},
   "source": [
    "**Distribusi Data**\n",
    "\n",
    "Secara umum, distribusi data untuk setiap kategori minat (interest) cenderung terpusat di sekitar nilai rata-rata, dengan beberapa variasi.\n",
    "Kolom Nature, Theatre, dan Shopping memiliki outlier, yang menunjukkan adanya beberapa individu dengan minat yang sangat tinggi atau rendah di kategori tersebut.\n",
    "Tidak ada kolom yang memiliki distribusi yang sangat miring (skewed).\n",
    "\n"
   ]
  },
  {
   "cell_type": "markdown",
   "metadata": {},
   "source": [
    "**Penanganan Outlier**\n",
    "\n",
    "Pada data ini menggunakan teknik Interquartile Range (IQR) untuk mendeteksi outlier. Outlier pada kolom Nature, Theatre, dan Shopping diganti dengan nilai NaN. Setelah itu baris yang mengandung nilai NaN dihapus dari dataset."
   ]
  },
  {
   "cell_type": "markdown",
   "metadata": {},
   "source": [
    "**Transformasi Data**\n",
    "\n",
    "Pada data ini kita menggunakan Teknik min-max scaling, yaitu salah satu metode transformasi data yang digunakan untuk menormalisasi nilai-nilai dalam suatu dataset ke dalam rentang tertentu, biasanya antara 0 dan 1. Metode ini sering digunakan dalam machine learning dan data preprocessing, terutama ketika model atau algoritma sensitif terhadap skala atau rentang nilai data, seperti regresi linear, k-NN, atau neural networks."
   ]
  },
  {
   "cell_type": "markdown",
   "metadata": {},
   "source": [
    "**Reduksi Data**\n",
    "\n",
    "Untuk mereduksi data kita menggunakan metode Principal Component Analysis (PCA), yaitu teknik reduksi dimensi yang banyak digunakan dalam analisis data. PCA bekerja dengan mengubah data berdimensi tinggi menjadi beberapa komponen baru yang saling tidak berkorelasi (principal components), sambil mempertahankan sebanyak mungkin variasi data. PCA sangat berguna dalam menyederhanakan dataset dengan banyak fitur, terutama ketika fitur-fitur tersebut saling berkorelasi.\n",
    "\n",
    "Persentase total varians yang dijelaskan oleh komponen tersebut adalah 99.47%. Ini berarti bahwa 99.47% dari informasi dalam dataset dipertahankan dalam 5 komponen utama yang dipilih. "
   ]
  }
 ],
 "metadata": {
  "kernelspec": {
   "display_name": "Python 3",
   "language": "python",
   "name": "python3"
  },
  "language_info": {
   "codemirror_mode": {
    "name": "ipython",
    "version": 3
   },
   "file_extension": ".py",
   "mimetype": "text/x-python",
   "name": "python",
   "nbconvert_exporter": "python",
   "pygments_lexer": "ipython3",
   "version": "3.12.3"
  }
 },
 "nbformat": 4,
 "nbformat_minor": 2
}
